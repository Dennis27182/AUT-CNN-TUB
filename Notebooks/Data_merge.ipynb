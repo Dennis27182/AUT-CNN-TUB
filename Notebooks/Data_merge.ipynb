{
 "cells": [
  {
   "cell_type": "code",
   "execution_count": 1,
   "metadata": {},
   "outputs": [],
   "source": [
    "import os\n",
    "import glob\n",
    "import re\n",
    "import cv2\n",
    "import matplotlib.pyplot as plt\n",
    "import matplotlib.image as mpimg\n",
    "import numpy as np\n",
    "from shutil import copyfile"
   ]
  },
  {
   "cell_type": "code",
   "execution_count": null,
   "metadata": {},
   "outputs": [],
   "source": [
    "home = os.getcwd().split('AUT-CNN-TUB')[0]"
   ]
  },
  {
   "cell_type": "code",
   "execution_count": 2,
   "metadata": {},
   "outputs": [],
   "source": [
    "def get_all_images_from_part(read_path, partname, extension):\n",
    "\n",
    "    numbers = filter(None, [re.match('\\d+',f) for f in  os.listdir(read_path)])\n",
    "    pats_path = [x.string for x in numbers if x is not None]\n",
    "\n",
    "    if pats_path == []:\n",
    "        print('ERROR: no directoris in path or wrong naming')\n",
    "        SystemExit\n",
    "        \n",
    "    if partname not in pats_path:\n",
    "        if type(partname) is str:\n",
    "            print(\"ERROR: dir for this partnumber doesn't exists\" )\n",
    "            SystemExit\n",
    "        else:\n",
    "            partname = str(partname)\n",
    "            \n",
    "            if partname not in pats_path:\n",
    "                print(\"ERROR: dir for this partnumber doesn't exists\")\n",
    "                SystemExit\n",
    "                \n",
    "    if extension  not in ['gif', 'jpeg', 'jpg', 'png', 'JPG']:\n",
    "        print('ERROR: unknown extension')\n",
    "        SystemExit\n",
    "        \n",
    "    else:\n",
    "        data_path = os.path.join(os.path.join(read_path, partname), '*{}'.format(extension))\n",
    "        files = glob.glob(data_path)\n",
    "        return files"
   ]
  },
  {
   "cell_type": "markdown",
   "metadata": {},
   "source": [
    "### copy old images "
   ]
  },
  {
   "cell_type": "code",
   "execution_count": 3,
   "metadata": {},
   "outputs": [],
   "source": [
    "read_path = os.path.join(home,'AUT-CNN-TUB/Data/Datensatz/')\n",
    "write_path = os.path.join(home,'AUT-CNN-TUB/Data/Raw_Data/')\n",
    "\n",
    "\n",
    "numbers = filter(None, [re.match('\\d+',f) for f in  os.listdir(read_path)])\n",
    "\n",
    "for part_nr in [x.string for x in numbers if x is not None]:\n",
    "    for extension in ['jpg', 'JPG']:\n",
    "        for file in get_all_images_from_part(read_path, part_nr, extension):\n",
    "            file_path = file\n",
    "            img_name = file_path.split('/')[-1].split('.')[0]\n",
    "            if img_name[1] is not '7':  \n",
    "                new_img_name = '{}{}{}'.format(format(int(part_nr.replace('.','')), '03d'),'02', img_name[-4:] )\n",
    "            else:\n",
    "                new_img_name = '{}{}{}'.format(format(int(part_nr.replace('.','')), '03d'),'02', img_name[-4:] )\n",
    "            \n",
    "            part_patch = os.path.join(write_path, part_nr)\n",
    "            \n",
    "            if os.path.exists(part_patch):\n",
    "                copyfile(file_path, os.path.join(part_patch, '{}.{}'.format(new_img_name, 'jpg')))\n",
    "\n",
    "            else:\n",
    "                os.makedirs(part_patch)\n",
    "                copyfile(file_path, os.path.join(part_patch, '{}.{}'.format(new_img_name, 'jpg')))"
   ]
  },
  {
   "cell_type": "markdown",
   "metadata": {},
   "source": [
    "### get new images"
   ]
  },
  {
   "cell_type": "code",
   "execution_count": 4,
   "metadata": {},
   "outputs": [],
   "source": [
    "read_path = os.path.join(home,'AUT-CNN-TUB/Data/ind_cam/')\n",
    "write_path = os.path.join(home,'AUT-CNN-TUB/Data/Raw_Data/')\n",
    "\n",
    "numbers = filter(None, [re.match('\\d+',f) for f in  os.listdir(read_path)])\n",
    "\n",
    "\n",
    "for part_nr in [x.string for x in numbers if x is not None]:\n",
    "    for extension in ['jpg', 'JPG']:\n",
    "        im_counter = 0\n",
    "\n",
    "        for file in get_all_images_from_part(read_path, part_nr, extension):\n",
    "            im_counter += 1\n",
    "\n",
    "            file_path = file\n",
    "            img_name = '{}{}{}'.format(format(int(part_nr.replace('.','')), '03d'),'01', format(im_counter,'04d' ))\n",
    "            \n",
    "            part_patch = os.path.join(write_path, part_nr)\n",
    "            \n",
    "            if os.path.exists(part_patch):\n",
    "                copyfile(file_path, os.path.join(part_patch, '{}.{}'.format(img_name, 'jpg')))\n",
    "\n",
    "            else:\n",
    "                os.makedirs(part_patch)\n",
    "                copyfile(file_path, os.path.join(part_patch, '{}.{}'.format(img_name, 'jpg')))"
   ]
  },
  {
   "cell_type": "code",
   "execution_count": null,
   "metadata": {},
   "outputs": [],
   "source": []
  }
 ],
 "metadata": {
  "kernelspec": {
   "display_name": "Python 3",
   "language": "python",
   "name": "python3"
  },
  "language_info": {
   "codemirror_mode": {
    "name": "ipython",
    "version": 3
   },
   "file_extension": ".py",
   "mimetype": "text/x-python",
   "name": "python",
   "nbconvert_exporter": "python",
   "pygments_lexer": "ipython3",
   "version": "3.6.6"
  }
 },
 "nbformat": 4,
 "nbformat_minor": 2
}
