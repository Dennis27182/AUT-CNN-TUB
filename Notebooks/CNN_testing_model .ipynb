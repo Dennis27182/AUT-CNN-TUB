{
 "cells": [
  {
   "cell_type": "code",
   "execution_count": 1,
   "metadata": {},
   "outputs": [],
   "source": [
    "import tensorflow as tf\n",
    "import numpy as np\n",
    "import cv2\n",
    "\n",
    "import os\n",
    "import glob\n",
    "import matplotlib.pyplot as plt\n",
    "import matplotlib.image as mpimg\n"
   ]
  },
  {
   "cell_type": "code",
   "execution_count": 2,
   "metadata": {},
   "outputs": [],
   "source": [
    "def get_part_from_image(image, scale = 1.3):\n",
    "    blurred = cv2.pyrMeanShiftFiltering(image, 10, 10)\n",
    "    imgray = cv2.cvtColor(blurred,cv2.COLOR_BGR2GRAY)\n",
    "    ret,thresh = cv2.threshold(imgray,157,255,0)\n",
    "    im2,contours,hierarchy = cv2.findContours(thresh,cv2.RETR_TREE,cv2.CHAIN_APPROX_SIMPLE)\n",
    "    cnt = contours\n",
    "    contour_indexer = 0\n",
    "    i = 0\n",
    "    #for c in cnt[1:]:\n",
    "    #    i = i + 1\n",
    "    #    if len(c)>len(cnt[contour_indexer]):\n",
    "    #        contour_indexer = i\n",
    "    filteredContours = []\n",
    "    for c in cnt:\n",
    "        if len(c) > 50:\n",
    "            filteredContours.append(c)\n",
    "\n",
    "    if len(filteredContours) > 0:\n",
    "        merged_contours = np.concatenate(filteredContours)\n",
    "\n",
    "        (x,y),radius = cv2.minEnclosingCircle(merged_contours)\n",
    "        center = (int(x),int(y))\n",
    "        radius = int(radius)\n",
    "        scaled_rad = int(radius * scale)\n",
    "        try:\n",
    "            img_cutted = image[center[1] - scaled_rad : center[1] + scaled_rad,\n",
    "                               center[0] - scaled_rad : center[0] + scaled_rad,\n",
    "                               : ] \n",
    "        except:\n",
    "            img_cutted = image[center[1] - radius : center[1] + radius,\n",
    "                               center[0] - radius : center[0] + radius,\n",
    "                               : ] \n",
    "\n",
    "        return img_cutted\n",
    "    else:\n",
    "        return None"
   ]
  },
  {
   "cell_type": "code",
   "execution_count": 60,
   "metadata": {},
   "outputs": [],
   "source": [
    "from layers import conv_layer, max_pool_2x2, full_layer\n",
    "\n",
    "home = os.getcwd().split('AUT-CNN-TUB')[0]\n",
    "model_path  = os.path.join(home,'AUT-CNN-TUB', 'Data', 'Models', 'model.ckpt')\n",
    "\n",
    "\n",
    "DATA_DIR = '/tmp/data'\n",
    "MINIBATCH_SIZE = 100\n",
    "STEPS = 50000\n",
    "\n",
    "home = os.getcwd().split('AUT-CNN-TUB')[0]\n",
    "test_path  = os.path.join(home,'AUT-CNN-TUB/Data/TF_Images_28/test/')\n",
    "train_path = os.path.join(home,'AUT-CNN-TUB/Data/TF_Images_28/train/')\n",
    "\n",
    "labels = ['001', '002', '003', '004', '006', '071', '072']\n",
    "position_dict = {k: v for v, k in enumerate(labels)}\n",
    "label_dict = {v : k  for v, k in enumerate(labels)}\n",
    "\n",
    "def label_to_binary(position_dict, label):\n",
    "    z = np.zeros(len(position_dict), dtype=int)\n",
    "    z[position_dict[label]] =1\n",
    "    return z\n",
    "\n",
    "def next_batch(path, size, GRBtoGray=False, flatten=False):\n",
    "    \n",
    "    data_path = os.path.join(path, '*g')  # ???\n",
    "    files = glob.glob(data_path)\n",
    "    num_imag = len(files)\n",
    "    Data = np.arange(0, num_imag)\n",
    "    batchindices = np.random.choice(Data, size=size,\n",
    "                                    replace=False)  # Zufallsstichprobe; reihenfolge beliebig; ohne zurückl.\n",
    "    \n",
    "    print(len(batchindices))\n",
    "\n",
    "    label_list =[]\n",
    "    img_list = []\n",
    "    for i, file_path in enumerate(files):\n",
    "        if i in batchindices:\n",
    "            label_str = file_path.split('/')[-1].split('.')[0][:3]\n",
    "            label_bin = label_to_binary(position_dict, label_str)\n",
    "\n",
    "            if GRBtoGray == True:\n",
    "                img = cv2.imread(file_path, flags=0)\n",
    "            else:\n",
    "                img = cv2.imread(file_path, flags=1)\n",
    "\n",
    "            if flatten == True:\n",
    "                img_list.append(img.flatten())\n",
    "                label_list.append(label_bin)\n",
    "            else:\n",
    "                img_list.append(img)\n",
    "                label_list.append(label_bin)\n",
    "\n",
    "    img_list = np.array(img_list)\n",
    "    label_list = np.array(label_list)\n",
    "\n",
    "\n",
    "    return img_list, label_list\n",
    "\n",
    "\n",
    "class Test:\n",
    "    def __init__(self, path, GRBtoGray=False, flatten=False): \n",
    "        self.path  = path\n",
    "        self.GRBtoGray  = GRBtoGray\n",
    "        self.flatten  = flatten\n",
    "        self.batchindices = None\n",
    "        \n",
    "        self.data_path = os.path.join(self.path, '*g')  # ???\n",
    "        self.files = glob.glob(self.data_path)\n",
    "        self.num_imag = len(self.files)\n",
    "        self.Data = list(range(0, self.num_imag))\n",
    "\n",
    "    def get_batch(self,size):\n",
    "        \n",
    "        if len(self.Data) > size:\n",
    "            self.batchindices = list(np.random.choice(self.Data, size=size, replace=False))\n",
    "            for x in self.batchindices:\n",
    "                self.Data.remove(x) \n",
    "                \n",
    "        elif len(self.Data) == size:\n",
    "            self.batchindices = np.random.choice(self.Data, size=size, replace=False)  \n",
    "            self.Data = list(range(0, self.num_imag))\n",
    "\n",
    "            \n",
    "        else:\n",
    "            self.batchindices = np.random.choice(self.Data, size=len(self.Data), replace=False)  \n",
    "            self.Data = list(range(0, self.num_imag))\n",
    "\n",
    "\n",
    "\n",
    "            \n",
    "\n",
    "        label_list =[]\n",
    "        img_list = []\n",
    "        file_name_list = []\n",
    "        for i, file_path in enumerate(self.files):\n",
    "            if i in self.batchindices:\n",
    "                label_str = file_path.split('/')[-1].split('.')[0][:3]\n",
    "                label_bin = label_to_binary(position_dict, label_str)\n",
    "\n",
    "                if self.GRBtoGray == True:\n",
    "                    img = cv2.imread(file_path, flags=0)\n",
    "                else:\n",
    "                    img = cv2.imread(file_path, flags=1)\n",
    "\n",
    "                if self.flatten == True:\n",
    "                    img_list.append(img.flatten())\n",
    "                    label_list.append(label_bin)\n",
    "                    file_name_list.append(file_path.split('/')[-1])\n",
    "                else:\n",
    "                    img_list.append(img)\n",
    "                    label_list.append(label_bin)\n",
    "                    file_name_list.append(file_path.split('/')[-1])\n",
    "\n",
    "        img_list = np.array(img_list)\n",
    "        label_list = np.array(label_list)\n",
    "\n",
    "\n",
    "        return img_list, label_list, file_name_list\n"
   ]
  },
  {
   "cell_type": "code",
   "execution_count": 64,
   "metadata": {
    "scrolled": false
   },
   "outputs": [
    {
     "name": "stdout",
     "output_type": "stream",
     "text": [
      "INFO:tensorflow:Restoring parameters from /home/jeronimo/git/AUT-CNN-TUB/Data/Models/model.ckpt\n",
      "test accuracy: 0.993756890296936\n"
     ]
    }
   ],
   "source": [
    "tf.reset_default_graph()\n",
    "# Create some variables.\n",
    "x = tf.placeholder(tf.float32, shape=[None, 28, 28, 3])\n",
    "y_ = tf.placeholder(tf.float32, shape=[None, len(position_dict)])\n",
    "\n",
    "#x_image = tf.reshape(x, [-1, 28, 28, 1])\n",
    "conv1 = conv_layer(x, shape=[5, 5, 3, 64])\n",
    "conv1_pool = max_pool_2x2(conv1)\n",
    "\n",
    "conv2 = conv_layer(conv1_pool, shape=[5, 5, 64, 128])\n",
    "conv2_pool = max_pool_2x2(conv2)\n",
    "\n",
    "conv2_flat = tf.reshape(conv2_pool, [-1, 7*7*128])\n",
    "full_1 = tf.nn.relu(full_layer(conv2_flat, 1024))\n",
    "\n",
    "keep_prob = tf.placeholder(tf.float32)\n",
    "full1_drop = tf.nn.dropout(full_1, keep_prob=keep_prob)\n",
    "\n",
    "y_conv = full_layer(full1_drop, len(position_dict))\n",
    "\n",
    "cross_entropy = tf.reduce_mean(tf.nn.softmax_cross_entropy_with_logits(logits=y_conv, labels=y_))\n",
    "train_step = tf.train.AdamOptimizer(1e-4).minimize(cross_entropy)\n",
    "correct_prediction = tf.equal(tf.argmax(y_conv, 1), tf.argmax(y_, 1))\n",
    "accuracy = tf.reduce_mean(tf.cast(correct_prediction, tf.float32))\n",
    "\n",
    "\n",
    "# Add ops to save and restore only `v2` using the name \"v2\"\n",
    "saver = tf.train.Saver()\n",
    "\n",
    "\n",
    "# Use the saver object normally after that.\n",
    "with tf.Session() as sess:\n",
    "    # Initialize v1 since the saver will not.\n",
    "    #v1.initializer.run()\n",
    "    saver.restore(sess, model_path)\n",
    "\n",
    "    X_batch, y_batch, file_name = test_img.get_batch(2723)\n",
    "\n",
    "    test_accuracy = np.mean(sess.run(accuracy, feed_dict={x: X_batch, y_: y_batch, keep_prob: 1.0}))\n",
    "\n",
    "    print(\"test accuracy: {}\".format(test_accuracy))"
   ]
  },
  {
   "cell_type": "code",
   "execution_count": 62,
   "metadata": {
    "scrolled": true
   },
   "outputs": [
    {
     "name": "stdout",
     "output_type": "stream",
     "text": [
      "INFO:tensorflow:Restoring parameters from /home/jeronimo/git/AUT-CNN-TUB/Data/Models/model.ckpt\n",
      "test accuracy: 0.993756890296936\n",
      "003 ['002020039.jpg']\n",
      "[[ -37.462364  114.26223   396.55664   334.78558   -60.60667  -357.95383\n",
      "  -614.7165  ]]\n"
     ]
    },
    {
     "data": {
      "image/png": "[encoded data removed]",
      "text/plain": [
       "<Figure size 360x360 with 1 Axes>"
      ]
     },
     "metadata": {},
     "output_type": "display_data"
    },
    {
     "name": "stdout",
     "output_type": "stream",
     "text": [
      "004 ['002020041.jpg']\n",
      "[[-133.77478  409.0514   126.77707  588.0451  -168.81038 -455.9283\n",
      "  -867.52185]]\n"
     ]
    },
    {
     "data": {
      "image/png": "[encoded data removed]",
      "text/plain": [
       "<Figure size 360x360 with 1 Axes>"
      ]
     },
     "metadata": {},
     "output_type": "display_data"
    },
    {
     "name": "stdout",
     "output_type": "stream",
     "text": [
      "006 ['072020123.jpg']\n",
      "[[   18.010153  -496.34103    487.12573    313.7928     819.66095\n",
      "  -1221.3838     299.28125 ]]\n"
     ]
    },
    {
     "data": {
      "image/png": "[encoded data removed]",
      "text/plain": [
       "<Figure size 360x360 with 1 Axes>"
      ]
     },
     "metadata": {},
     "output_type": "display_data"
    },
    {
     "name": "stdout",
     "output_type": "stream",
     "text": [
      "003 ['072020047.jpg']\n",
      "[[-321.1412    104.4386    171.04042   147.57013  -593.50574    65.962395\n",
      "   160.73222 ]]\n"
     ]
    },
    {
     "data": {
      "image/png": "[encoded data removed]",
      "text/plain": [
       "<Figure size 360x360 with 1 Axes>"
      ]
     },
     "metadata": {},
     "output_type": "display_data"
    },
    {
     "name": "stdout",
     "output_type": "stream",
     "text": [
      "002 ['004020127.jpg']\n",
      "[[-390.3707   466.5662   314.66638 -370.1122  -463.74615 -447.20856\n",
      "  -191.72063]]\n"
     ]
    },
    {
     "data": {
      "image/png": "[encoded data removed]",
      "text/plain": [
       "<Figure size 360x360 with 1 Axes>"
      ]
     },
     "metadata": {},
     "output_type": "display_data"
    },
    {
     "name": "stdout",
     "output_type": "stream",
     "text": [
      "002 ['072020133.jpg']\n",
      "[[-160.4514   505.94012  308.48602 -814.5477  -123.92466 -209.72218\n",
      "   -42.03921]]\n"
     ]
    },
    {
     "data": {
      "image/png": "[encoded data removed]",
      "text/plain": [
       "<Figure size 360x360 with 1 Axes>"
      ]
     },
     "metadata": {},
     "output_type": "display_data"
    },
    {
     "name": "stdout",
     "output_type": "stream",
     "text": [
      "003 ['071020022.jpg']\n",
      "[[-499.4879    72.97882  666.891   -480.409   -147.34012  418.09888\n",
      "  -376.12442]]\n"
     ]
    },
    {
     "data": {
      "image/png": "[encoded data removed]",
      "text/plain": [
       "<Figure size 360x360 with 1 Axes>"
      ]
     },
     "metadata": {},
     "output_type": "display_data"
    },
    {
     "name": "stdout",
     "output_type": "stream",
     "text": [
      "003 ['072010237.jpg']\n",
      "[[ -14.137429 -181.41472   279.9759    -59.791462 -145.20403   -35.83226\n",
      "   189.82355 ]]\n"
     ]
    },
    {
     "data": {
      "image/png": "[encoded data removed]",
      "text/plain": [
       "<Figure size 360x360 with 1 Axes>"
      ]
     },
     "metadata": {},
     "output_type": "display_data"
    },
    {
     "name": "stdout",
     "output_type": "stream",
     "text": [
      "004 ['072020116.jpg']\n",
      "[[-374.7539     26.033754  140.78973   559.4568   -528.16406  -628.9969\n",
      "    82.739525]]\n"
     ]
    },
    {
     "data": {
      "image/png": "[encoded data removed]",
      "text/plain": [
       "<Figure size 360x360 with 1 Axes>"
      ]
     },
     "metadata": {},
     "output_type": "display_data"
    },
    {
     "name": "stdout",
     "output_type": "stream",
     "text": [
      "071 ['072020266.jpg']\n",
      "[[-292.26602 -284.83612   39.10654 -400.47147 -364.9169   378.44623\n",
      "   222.90332]]\n"
     ]
    },
    {
     "data": {
      "image/png": "[encoded data removed]",
      "text/plain": [
       "<Figure size 360x360 with 1 Axes>"
      ]
     },
     "metadata": {},
     "output_type": "display_data"
    },
    {
     "name": "stdout",
     "output_type": "stream",
     "text": [
      "003 ['001020150.jpg']\n",
      "[[ 410.6416   -139.77971   473.43088  -304.16345   -82.33945   -11.487098\n",
      "   -32.570404]]\n"
     ]
    },
    {
     "data": {
      "image/png": "[encoded data removed]",
      "text/plain": [
       "<Figure size 360x360 with 1 Axes>"
      ]
     },
     "metadata": {},
     "output_type": "display_data"
    },
    {
     "name": "stdout",
     "output_type": "stream",
     "text": [
      "001 ['072020180.jpg']\n",
      "[[  878.29364   139.33409    78.71622 -1583.9802   -709.8051    -97.85704\n",
      "    795.6849 ]]\n"
     ]
    },
    {
     "data": {
      "image/png": "[encoded data removed]",
      "text/plain": [
       "<Figure size 360x360 with 1 Axes>"
      ]
     },
     "metadata": {},
     "output_type": "display_data"
    },
    {
     "name": "stdout",
     "output_type": "stream",
     "text": [
      "002 ['072020132.jpg']\n",
      "[[ -253.049      450.27072     81.546364 -1199.1794    -146.61559\n",
      "   -222.06496    449.5701  ]]\n"
     ]
    },
    {
     "data": {
      "image/png": "[encoded data removed]",
      "text/plain": [
       "<Figure size 360x360 with 1 Axes>"
      ]
     },
     "metadata": {},
     "output_type": "display_data"
    },
    {
     "name": "stdout",
     "output_type": "stream",
     "text": [
      "003 ['072010765.jpg']\n",
      "[[-111.74461   -243.50157    319.26468      7.2922335  -69.96499\n",
      "    46.877316   211.20638  ]]\n"
     ]
    },
    {
     "data": {
      "image/png": "[encoded data removed]",
      "text/plain": [
       "<Figure size 360x360 with 1 Axes>"
      ]
     },
     "metadata": {},
     "output_type": "display_data"
    },
    {
     "name": "stdout",
     "output_type": "stream",
     "text": [
      "004 ['003010577.jpg']\n",
      "[[  322.79535  -563.89307  1191.9814   1392.5564   -487.22318   397.65833\n",
      "  -1244.0895 ]]\n"
     ]
    },
    {
     "data": {
      "image/png": "[encoded data removed]",
      "text/plain": [
       "<Figure size 360x360 with 1 Axes>"
      ]
     },
     "metadata": {},
     "output_type": "display_data"
    },
    {
     "name": "stdout",
     "output_type": "stream",
     "text": [
      "004 ['003020228.jpg']\n",
      "[[  423.56503    216.62961   1055.264     1144.8109   -1034.2036\n",
      "    -49.880123 -1763.0802  ]]\n"
     ]
    },
    {
     "data": {
      "image/png": "[encoded data removed]",
      "text/plain": [
       "<Figure size 360x360 with 1 Axes>"
      ]
     },
     "metadata": {},
     "output_type": "display_data"
    },
    {
     "name": "stdout",
     "output_type": "stream",
     "text": [
      "003 ['072020114.jpg']\n",
      "[[-302.81732  -351.00998   509.7305   -309.44     -389.7482    126.47545\n",
      "    55.353214]]\n"
     ]
    },
    {
     "data": {
      "image/png": "[encoded data removed]",
      "text/plain": [
       "<Figure size 360x360 with 1 Axes>"
      ]
     },
     "metadata": {},
     "output_type": "display_data"
    }
   ],
   "source": [
    "tf.reset_default_graph()\n",
    "# Create some variables.\n",
    "x = tf.placeholder(tf.float32, shape=[None, 28, 28, 3])\n",
    "y_ = tf.placeholder(tf.float32, shape=[None, len(position_dict)])\n",
    "\n",
    "#x_image = tf.reshape(x, [-1, 28, 28, 1])\n",
    "conv1 = conv_layer(x, shape=[5, 5, 3, 64])\n",
    "conv1_pool = max_pool_2x2(conv1)\n",
    "\n",
    "conv2 = conv_layer(conv1_pool, shape=[5, 5, 64, 128])\n",
    "conv2_pool = max_pool_2x2(conv2)\n",
    "\n",
    "conv2_flat = tf.reshape(conv2_pool, [-1, 7*7*128])\n",
    "full_1 = tf.nn.relu(full_layer(conv2_flat, 1024))\n",
    "\n",
    "keep_prob = tf.placeholder(tf.float32)\n",
    "full1_drop = tf.nn.dropout(full_1, keep_prob=keep_prob)\n",
    "\n",
    "y_conv = full_layer(full1_drop, len(position_dict))\n",
    "\n",
    "cross_entropy = tf.reduce_mean(tf.nn.softmax_cross_entropy_with_logits(logits=y_conv, labels=y_))\n",
    "train_step = tf.train.AdamOptimizer(1e-4).minimize(cross_entropy)\n",
    "correct_prediction = tf.equal(tf.argmax(y_conv, 1), tf.argmax(y_, 1))\n",
    "accuracy = tf.reduce_mean(tf.cast(correct_prediction, tf.float32))\n",
    "\n",
    "\n",
    "# Add ops to save and restore only `v2` using the name \"v2\"\n",
    "saver = tf.train.Saver()\n",
    "\n",
    "test_img = Test(test_path, False, False)\n",
    "\n",
    "# Use the saver object normally after that.\n",
    "with tf.Session() as sess:\n",
    "    saver.restore(sess, model_path)\n",
    "\n",
    "    X_batch, y_batch, file_name = test_img.get_batch(2723)\n",
    "    test_accuracy = np.mean([sess.run(accuracy, feed_dict={x: X_batch, y_: y_batch, keep_prob: 1.0})])\n",
    "\n",
    "    print(\"test accuracy: {}\".format(test_accuracy))\n",
    "    \n",
    "    for i in range(2723):\n",
    "\n",
    "        X_batch, y_batch, file_name = test_img.get_batch(1)\n",
    "\n",
    "        label = y_batch\n",
    "        image_ar = X_batch[0]\n",
    "        if label_dict[np.argmax(sess.run(tf.nn.softmax(y_conv, 1),\n",
    "                                         feed_dict={x: X_batch,\n",
    "                                                    y_: y_batch, \n",
    "                                                    keep_prob: 1}))] != label_dict[np.argmax(label)]:\n",
    "            \n",
    "            print(label_dict[np.argmax(sess.run(\n",
    "                tf.nn.softmax(y_conv, 1), \n",
    "                feed_dict={x: X_batch, y_: y_batch, keep_prob: 1}))], file_name)\n",
    "            print(sess.run(tf.cast(y_conv, 1), feed_dict={x: X_batch, y_: y_batch, keep_prob: 1}))\n",
    "\n",
    "\n",
    "\n",
    "\n",
    "            fig = plt.figure(figsize=(5,5))\n",
    "            ax1 = fig.add_subplot(1, 2, 1)\n",
    "            ax1.axis('off')\n",
    "            ax1.set_title('Pixel:\\n' + label_dict[np.argmax(label)])\n",
    "            ax1.imshow(image_ar);\n",
    "            plt.show()"
   ]
  },
  {
   "cell_type": "code",
   "execution_count": 54,
   "metadata": {},
   "outputs": [
    {
     "name": "stdout",
     "output_type": "stream",
     "text": [
      "2619\n"
     ]
    }
   ],
   "source": [
    "for x in test_img.batchindices:\n",
    "    print(x)"
   ]
  },
  {
   "cell_type": "code",
   "execution_count": 59,
   "metadata": {},
   "outputs": [
    {
     "data": {
      "text/plain": [
       "1"
      ]
     },
     "execution_count": 59,
     "metadata": {},
     "output_type": "execute_result"
    }
   ],
   "source": [
    "test_img.Data.pop(0)\n"
   ]
  },
  {
   "cell_type": "markdown",
   "metadata": {},
   "source": [
    "### load raw image for testing"
   ]
  },
  {
   "cell_type": "code",
   "execution_count": 65,
   "metadata": {},
   "outputs": [
    {
     "data": {
      "text/plain": [
       "2723"
      ]
     },
     "execution_count": 65,
     "metadata": {},
     "output_type": "execute_result"
    }
   ],
   "source": [
    "home = os.getcwd().split('AUT-CNN-TUB')[0]\n",
    "test_path  = os.path.join(home,'AUT-CNN-TUB/Data/TF_Images_28/test/')\n",
    "data_path = os.path.join(test_path, '*g')  # ???\n",
    "\n",
    "files = glob.glob(data_path)\n",
    "num_imag = len(files)\n",
    "Data = np.arange(0, num_imag)\n",
    "len(files)"
   ]
  },
  {
   "cell_type": "code",
   "execution_count": 72,
   "metadata": {},
   "outputs": [],
   "source": [
    "file_path = '/home/jeronimo/git/AUT-CNN-TUB/Data/Raw_Data/1/001010031.jpg'\n",
    "label_str = file_path.split('/')[-1].split('.')[0][:3]\n",
    "label_bin = label_to_binary(position_dict, label_str)\n",
    "\n",
    "label_list =[]\n",
    "img_list = []\n",
    "\n",
    "img = cv2.imread(file_path, flags=1)\n",
    "img = get_part_from_image(img, scale = 1.3)\n",
    "img = cv2.resize(img,(28, 28))\n",
    "#img = cv2.flip( img, flipCode=1)\n",
    "img_rot = np.rot90(img)\n",
    "img_list.append(img)\n",
    "label_list.append(label_bin)\n",
    "\n",
    "\n",
    "img_list = np.array(img_list)\n",
    "label_list = np.array(label_list)"
   ]
  },
  {
   "cell_type": "code",
   "execution_count": 75,
   "metadata": {},
   "outputs": [
    {
     "name": "stdout",
     "output_type": "stream",
     "text": [
      "001\n"
     ]
    },
    {
     "data": {
      "image/png": "[encoded data removed]",
      "text/plain": [
       "<Figure size 720x1440 with 2 Axes>"
      ]
     },
     "metadata": {},
     "output_type": "display_data"
    }
   ],
   "source": [
    "print(label_str)\n",
    "fig = plt.figure(figsize=(10,20))\n",
    "ax1 = fig.add_subplot(1, 2, 1)\n",
    "ax1.axis('off')\n",
    "ax1.set_title('Orginal:\\n' + label_str)\n",
    "ax1.imshow(img);\n",
    "ax2 = fig.add_subplot(1, 2, 2)\n",
    "ax2.axis('off')\n",
    "ax2.set_title('Rot 90:\\n' + label_str)\n",
    "ax2.imshow(img_rot);\n",
    "plt.show()\n"
   ]
  },
  {
   "cell_type": "code",
   "execution_count": 71,
   "metadata": {},
   "outputs": [
    {
     "name": "stdout",
     "output_type": "stream",
     "text": [
      "INFO:tensorflow:Restoring parameters from /home/jeronimo/git/AUT-CNN-TUB/Data/Models/model.ckpt\n",
      "002\n",
      "[[ -29.984785   390.07068    251.70288   -343.12512      1.9317305\n",
      "  -109.81803    -87.08603  ]]\n"
     ]
    },
    {
     "data": {
      "image/png": "[encoded data removed]",
      "text/plain": [
       "<Figure size 360x360 with 1 Axes>"
      ]
     },
     "metadata": {},
     "output_type": "display_data"
    }
   ],
   "source": [
    "tf.reset_default_graph()\n",
    "# Create some variables.\n",
    "x = tf.placeholder(tf.float32, shape=[None, 28, 28, 3])\n",
    "y_ = tf.placeholder(tf.float32, shape=[None, len(position_dict)])\n",
    "\n",
    "#x_image = tf.reshape(x, [-1, 28, 28, 1])\n",
    "conv1 = conv_layer(x, shape=[5, 5, 3, 64])\n",
    "conv1_pool = max_pool_2x2(conv1)\n",
    "\n",
    "conv2 = conv_layer(conv1_pool, shape=[5, 5, 64, 128])\n",
    "conv2_pool = max_pool_2x2(conv2)\n",
    "\n",
    "conv2_flat = tf.reshape(conv2_pool, [-1, 7*7*128])\n",
    "full_1 = tf.nn.relu(full_layer(conv2_flat, 1024))\n",
    "\n",
    "keep_prob = tf.placeholder(tf.float32)\n",
    "full1_drop = tf.nn.dropout(full_1, keep_prob=keep_prob)\n",
    "\n",
    "y_conv = full_layer(full1_drop, len(position_dict))\n",
    "\n",
    "cross_entropy = tf.reduce_mean(tf.nn.softmax_cross_entropy_with_logits(logits=y_conv, labels=y_))\n",
    "train_step = tf.train.AdamOptimizer(1e-4).minimize(cross_entropy)\n",
    "correct_prediction = tf.equal(tf.argmax(y_conv, 1), tf.argmax(y_, 1))\n",
    "accuracy = tf.reduce_mean(tf.cast(correct_prediction, tf.float32))\n",
    "\n",
    "\n",
    "# Add ops to save and restore only `v2` using the name \"v2\"\n",
    "saver = tf.train.Saver()\n",
    "\n",
    "test_img = Test(test_path, False, False)\n",
    "\n",
    "# Use the saver object normally after that.\n",
    "with tf.Session() as sess:\n",
    "    saver.restore(sess, model_path)\n",
    "\n",
    "    label = label_list[0]\n",
    "    image_ar = img_list[0]\n",
    "    y_batch = label_list\n",
    "    X_batch = img_list\n",
    "    \n",
    "    print(label_dict[np.argmax(sess.run(\n",
    "        tf.nn.softmax(y_conv, 1), \n",
    "        feed_dict={x: X_batch, y_: y_batch, keep_prob: 1}))])\n",
    "    print(sess.run(tf.cast(y_conv, 1), feed_dict={x: X_batch, y_: y_batch, keep_prob: 1}))\n",
    "\n",
    "\n",
    "\n",
    "\n",
    "    fig = plt.figure(figsize=(5,5))\n",
    "    ax1 = fig.add_subplot(1, 2, 1)\n",
    "    ax1.axis('off')\n",
    "    ax1.set_title('Pixel:\\n' + label_dict[np.argmax(label)])\n",
    "    ax1.imshow(image_ar);\n",
    "    plt.show()"
   ]
  },
  {
   "cell_type": "code",
   "execution_count": null,
   "metadata": {},
   "outputs": [],
   "source": []
  }
 ],
 "metadata": {
  "kernelspec": {
   "display_name": "python3_tensorflow",
   "language": "python",
   "name": "python3_tensorflow"
  },
  "language_info": {
   "codemirror_mode": {
    "name": "ipython",
    "version": 3
   },
   "file_extension": ".py",
   "mimetype": "text/x-python",
   "name": "python",
   "nbconvert_exporter": "python",
   "pygments_lexer": "ipython3",
   "version": "3.6.6"
  }
 },
 "nbformat": 4,
 "nbformat_minor": 2
}
