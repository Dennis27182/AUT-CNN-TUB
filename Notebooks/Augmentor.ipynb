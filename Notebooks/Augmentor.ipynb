{
 "cells": [
  {
   "cell_type": "code",
   "execution_count": 19,
   "metadata": {},
   "outputs": [],
   "source": [
    "import tensorflow as tf\n",
    "import numpy as np\n",
    "import matplotlib.pyplot as plt\n",
    "from IPython.display import set_matplotlib_formats\n",
    "from PIL import Image\n",
    "set_matplotlib_formats('pdf', 'svg')\n",
    "%matplotlib inline\n",
    "import random\n",
    "import cv2\n",
    "import PIL\n",
    "import os\n",
    "import glob\n",
    "import Augmentor"
   ]
  },
  {
   "cell_type": "code",
   "execution_count": 20,
   "metadata": {},
   "outputs": [
    {
     "name": "stdout",
     "output_type": "stream",
     "text": [
      "Initialised with 4 image(s) found.\n",
      "Output directory set to C:/Users/Dennis/Dropbox/Master/3. Semester/Automatisierungstechnisches Projekt/TensorFlow/augmentation\\output."
     ]
    }
   ],
   "source": [
    "cwd = os.getcwd().replace(\"\\\\\",\"/\")\n",
    "\n",
    "# In diesem Ordner liegen die Bilder, die die Grundlage für \n",
    "# das Image augmantation bilden\n",
    "path_to_data = cwd  + \"/augmentation\" \n",
    "read_path_dectop = \"C:/Users/Dennis/Desktop/TF_Images/Raw_Data\"\n",
    "\n",
    "# anlegen eines pipeline objekts\n",
    "p = Augmentor.Pipeline(path_to_aug_data)"
   ]
  },
  {
   "cell_type": "code",
   "execution_count": 42,
   "metadata": {},
   "outputs": [],
   "source": [
    "# statusabfrage\n",
    " p.status()"
   ]
  },
  {
   "cell_type": "code",
   "execution_count": 38,
   "metadata": {},
   "outputs": [],
   "source": [
    "# operationen zur pipeline hinzufügen\n",
    "\n",
    "p.flip_random(probability=0.2)\n",
    "p.rotate(probability=0.2, max_left_rotation=25, max_right_rotation=25)\n",
    "p.skew(probability=0.2)\n",
    "p.random_distortion(probability=0.1,grid_height=5,grid_width=2,magnitude=1)\n",
    "p.random_erasing(probability=0.05, rectangle_area=0.15)"
   ]
  },
  {
   "cell_type": "code",
   "execution_count": 68,
   "metadata": {},
   "outputs": [
    {
     "data": {
      "text/plain": [
       "'C:\\\\Users\\\\Dennis\\\\Dropbox\\\\Master\\\\3. Semester\\\\Automatisierungstechnisches Projekt\\\\TensorFlow'"
      ]
     },
     "execution_count": 68,
     "metadata": {},
     "output_type": "execute_result"
    }
   ],
   "source": [
    "cwd "
   ]
  },
  {
   "cell_type": "code",
   "execution_count": 67,
   "metadata": {},
   "outputs": [
    {
     "name": "stdout",
     "output_type": "stream",
     "text": [
      "Initialised with 2605 image(s) found.\n",
      "Output directory set to C:\\Users\\Dennis\\Dropbox\\Master\\3. Semester\\Automatisierungstechnisches Projekt\\TensorFlow\\AUT-CNN-TUB/Data/Centered_28x28/1\\output."
     ]
    },
    {
     "name": "stderr",
     "output_type": "stream",
     "text": [
      "Processing <PIL.JpegImagePlugin.JpegImageFile image mode=RGB size=28x28 at 0x2402A5C7EB8>: 100%|█| 260/260 [00:00<00:00, 341.56 Samples/s]\n"
     ]
    },
    {
     "name": "stdout",
     "output_type": "stream",
     "text": [
      "Initialised with 2118 image(s) found.\n",
      "Output directory set to C:\\Users\\Dennis\\Dropbox\\Master\\3. Semester\\Automatisierungstechnisches Projekt\\TensorFlow\\AUT-CNN-TUB/Data/Centered_28x28/2\\output."
     ]
    },
    {
     "name": "stderr",
     "output_type": "stream",
     "text": [
      "Processing <PIL.Image.Image image mode=RGB size=28x28 at 0x2402ADA4BA8>: 100%|█| 212/212 [00:00<00:00, 251.74 Samples/s]                  \n"
     ]
    },
    {
     "name": "stdout",
     "output_type": "stream",
     "text": [
      "Initialised with 1435 image(s) found.\n",
      "Output directory set to C:\\Users\\Dennis\\Dropbox\\Master\\3. Semester\\Automatisierungstechnisches Projekt\\TensorFlow\\AUT-CNN-TUB/Data/Centered_28x28/3\\output."
     ]
    },
    {
     "name": "stderr",
     "output_type": "stream",
     "text": [
      "Processing <PIL.Image.Image image mode=RGB size=28x28 at 0x240145B2B38>: 100%|█| 144/144 [00:00<00:00, 176.65 Samples/s]                 \n"
     ]
    },
    {
     "name": "stdout",
     "output_type": "stream",
     "text": [
      "Initialised with 1081 image(s) found.\n",
      "Output directory set to C:\\Users\\Dennis\\Dropbox\\Master\\3. Semester\\Automatisierungstechnisches Projekt\\TensorFlow\\AUT-CNN-TUB/Data/Centered_28x28/4\\output."
     ]
    },
    {
     "name": "stderr",
     "output_type": "stream",
     "text": [
      "Processing <PIL.JpegImagePlugin.JpegImageFile image mode=RGB size=28x28 at 0x2402ADA4320>: 100%|█| 108/108 [00:00<00:00, 297.83 Samples/s]\n"
     ]
    },
    {
     "name": "stdout",
     "output_type": "stream",
     "text": [
      "Initialised with 214 image(s) found.\n",
      "Output directory set to C:\\Users\\Dennis\\Dropbox\\Master\\3. Semester\\Automatisierungstechnisches Projekt\\TensorFlow\\AUT-CNN-TUB/Data/Centered_28x28/6\\output."
     ]
    },
    {
     "name": "stderr",
     "output_type": "stream",
     "text": [
      "Processing <PIL.JpegImagePlugin.JpegImageFile image mode=RGB size=28x28 at 0x24019509F98>: 100%|█| 21/21 [00:00<00:00, 72.49 Samples/s]\n"
     ]
    },
    {
     "name": "stdout",
     "output_type": "stream",
     "text": [
      "Initialised with 837 image(s) found.\n",
      "Output directory set to C:\\Users\\Dennis\\Dropbox\\Master\\3. Semester\\Automatisierungstechnisches Projekt\\TensorFlow\\AUT-CNN-TUB/Data/Centered_28x28/7.1\\output."
     ]
    },
    {
     "name": "stderr",
     "output_type": "stream",
     "text": [
      "Processing <PIL.JpegImagePlugin.JpegImageFile image mode=RGB size=28x28 at 0x2401903DE80>: 100%|█| 84/84 [00:00<00:00, 340.43 Samples/s]\n"
     ]
    },
    {
     "name": "stdout",
     "output_type": "stream",
     "text": [
      "Initialised with 788 image(s) found.\n",
      "Output directory set to C:\\Users\\Dennis\\Dropbox\\Master\\3. Semester\\Automatisierungstechnisches Projekt\\TensorFlow\\AUT-CNN-TUB/Data/Centered_28x28/7.2\\output."
     ]
    },
    {
     "name": "stderr",
     "output_type": "stream",
     "text": [
      "Processing <PIL.JpegImagePlugin.JpegImageFile image mode=RGB size=28x28 at 0x2402A8F2390>: 100%|█| 79/79 [00:00<00:00, 143.26 Samples/s]\n"
     ]
    }
   ],
   "source": [
    "labels = ['1', '2', '3', '4', '6', '7.1', '7.2'] # Namen der Ordner \n",
    "\n",
    "cwd = os.getcwd()\n",
    "data_path = os.path.join(cwd,'AUT-CNN-TUB/Data/Centered_28x28/')\n",
    "\n",
    "for label in labels:\n",
    "    pass\n",
    "    img_path = os.path.join(data_path+label, '*g')\n",
    "    num_img = len(glob.glob(img_path))\n",
    "    \n",
    "    p = Augmentor.Pipeline(data_path+label)\n",
    "    \n",
    "    p.flip_random(probability=0.2)\n",
    "    p.rotate(probability=0.2, max_left_rotation=25, max_right_rotation=25)\n",
    "    p.skew(probability=0.2)\n",
    "    p.random_distortion(probability=0.1,grid_height=5,grid_width=2,magnitude=1)\n",
    "    p.random_erasing(probability=0.05, rectangle_area=0.15)\n",
    "    \n",
    "    n = int(np.round(0.1*num_img))\n",
    "    p.sample(n)\n",
    "    \n"
   ]
  },
  {
   "cell_type": "code",
   "execution_count": 63,
   "metadata": {},
   "outputs": [
    {
     "data": {
      "text/plain": [
       "788"
      ]
     },
     "execution_count": 63,
     "metadata": {},
     "output_type": "execute_result"
    }
   ],
   "source": []
  },
  {
   "cell_type": "code",
   "execution_count": 34,
   "metadata": {},
   "outputs": [],
   "source": [
    "p.sample(50)"
   ]
  },
  {
   "cell_type": "code",
   "execution_count": 25,
   "metadata": {},
   "outputs": [
    {
     "name": "stderr",
     "output_type": "stream",
     "text": [
      "Processing <PIL.Image.Image image mode=L size=100x100 at 0x24019515E10>: 100%|█| 10/10 [00:00<00:00, 24.60 Samples/s]\n"
     ]
    }
   ],
   "source": []
  },
  {
   "cell_type": "code",
   "execution_count": 17,
   "metadata": {},
   "outputs": [
    {
     "name": "stderr",
     "output_type": "stream",
     "text": [
      "Processing <PIL.Image.Image image mode=L size=100x100 at 0x24019729BE0>: 100%|█| 10/10 [00:00<00:00, 48.83 Samples/s]\n"
     ]
    }
   ],
   "source": []
  },
  {
   "cell_type": "code",
   "execution_count": null,
   "metadata": {},
   "outputs": [],
   "source": [
    "p.status()"
   ]
  }
 ],
 "metadata": {
  "kernelspec": {
   "display_name": "Python 3",
   "language": "python",
   "name": "python3"
  },
  "language_info": {
   "codemirror_mode": {
    "name": "ipython",
    "version": 3
   },
   "file_extension": ".py",
   "mimetype": "text/x-python",
   "name": "python",
   "nbconvert_exporter": "python",
   "pygments_lexer": "ipython3",
   "version": "3.6.4"
  }
 },
 "nbformat": 4,
 "nbformat_minor": 2
}
